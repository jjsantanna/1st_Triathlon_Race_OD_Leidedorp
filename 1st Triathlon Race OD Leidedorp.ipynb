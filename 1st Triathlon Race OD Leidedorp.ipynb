{
 "cells": [
  {
   "cell_type": "markdown",
   "id": "4a6eea6a",
   "metadata": {},
   "source": [
    "# Evaluating My Triathlon Performance in Races\n",
    "\n",
    "## 2023 Leidedorp OD"
   ]
  },
  {
   "cell_type": "code",
   "execution_count": 298,
   "id": "9821061f",
   "metadata": {},
   "outputs": [],
   "source": [
    "import pandas as pd"
   ]
  },
  {
   "cell_type": "markdown",
   "id": "cbbc7221",
   "metadata": {},
   "source": [
    "Downloading the data"
   ]
  },
  {
   "cell_type": "code",
   "execution_count": 299,
   "id": "99e7b4e8",
   "metadata": {},
   "outputs": [],
   "source": [
    "df = pd.read_html('https://nl.mylaps.com/evenementen/uitslagen/2023/aug/20/leiderdorp/STA_Tus.html')"
   ]
  },
  {
   "cell_type": "markdown",
   "id": "5402f45d",
   "metadata": {},
   "source": [
    "Pre-processing the data"
   ]
  },
  {
   "cell_type": "code",
   "execution_count": 300,
   "id": "e07514f7",
   "metadata": {},
   "outputs": [],
   "source": [
    "df[0].columns = df[0].iloc[4]"
   ]
  },
  {
   "cell_type": "code",
   "execution_count": 301,
   "id": "4a18fa05",
   "metadata": {},
   "outputs": [],
   "source": [
    "df = df[0].iloc[5:-3]"
   ]
  },
  {
   "cell_type": "code",
   "execution_count": 303,
   "id": "18c34c57",
   "metadata": {},
   "outputs": [],
   "source": [
    "def stringtime_to_seconds(t):\n",
    "    if len(t.split(':')) == 2:\n",
    "        return int(t.split(':')[-1]) + int(t.split(':')[-2])*60 \n",
    "    if len(t.split(':')) == 3:\n",
    "        return int(t.split(':')[-1]) + int(t.split(':')[-2])*60 +  int(t.split(':')[-3])*3600 \n",
    "    else:\n",
    "        return 0\n",
    "\n",
    "df['Zwem_total_sec'] = df['Zwem'].astype(str).apply(stringtime_to_seconds)    \n",
    "df['Wis1_total_sec'] = df['Wis1'].astype(str).apply(stringtime_to_seconds)\n",
    "df['Fiets_total_sec'] = df['Fiets'].astype(str).apply(stringtime_to_seconds)\n",
    "df['Wis2_total_sec'] = df['Wis2'].astype(str).apply(stringtime_to_seconds)\n",
    "df['Loop_total_sec'] = df['Loop'].astype(str).apply(stringtime_to_seconds)"
   ]
  },
  {
   "cell_type": "code",
   "execution_count": 304,
   "id": "05180011",
   "metadata": {},
   "outputs": [],
   "source": [
    "df['Zwem_speed_per100m'] = pd.to_datetime(df['Zwem_total_sec']/15,unit='s').dt.time\n",
    "\n",
    "df['Fiets_speed_km/h'] = 40/(df['Fiets_total_sec']/3600)\n",
    "\n",
    "df['Loop_pace_min/km'] = pd.to_datetime(df['Loop_total_sec']/10,unit='s').dt.time"
   ]
  },
  {
   "cell_type": "markdown",
   "id": "82068f59",
   "metadata": {},
   "source": [
    "Saving the data"
   ]
  },
  {
   "cell_type": "code",
   "execution_count": null,
   "id": "2fc9430c",
   "metadata": {},
   "outputs": [],
   "source": [
    "df.to_excel('races/2023_leidedorp_od.xlsx')"
   ]
  },
  {
   "cell_type": "markdown",
   "id": "39cbf86d",
   "metadata": {},
   "source": [
    "# Overall numbers"
   ]
  },
  {
   "cell_type": "code",
   "execution_count": 305,
   "id": "31993771",
   "metadata": {},
   "outputs": [
    {
     "name": "stdout",
     "output_type": "stream",
     "text": [
      "Total participants: 119\n",
      "Total Male: 90\n",
      "Total Female: 29\n",
      "Didn't Finish: 2\n"
     ]
    }
   ],
   "source": [
    "print(\"Total participants:\",len(df))\n",
    "print(\"Total Male:\",len(df[df['MV']=='M']))\n",
    "print(\"Total Female:\",len(df[df['MV']=='V']))\n",
    "print(\"Didn't Finish:\",len(df[df['#Tot']=='DNF']))"
   ]
  },
  {
   "cell_type": "markdown",
   "id": "15ac6668",
   "metadata": {},
   "source": [
    "## Comparing Myself with the Winner"
   ]
  },
  {
   "cell_type": "code",
   "execution_count": 306,
   "id": "43f6e67d",
   "metadata": {},
   "outputs": [
    {
     "data": {
      "text/html": [
       "<div>\n",
       "<style scoped>\n",
       "    .dataframe tbody tr th:only-of-type {\n",
       "        vertical-align: middle;\n",
       "    }\n",
       "\n",
       "    .dataframe tbody tr th {\n",
       "        vertical-align: top;\n",
       "    }\n",
       "\n",
       "    .dataframe thead th {\n",
       "        text-align: right;\n",
       "    }\n",
       "</style>\n",
       "<table border=\"1\" class=\"dataframe\">\n",
       "  <thead>\n",
       "    <tr style=\"text-align: right;\">\n",
       "      <th>4</th>\n",
       "      <th>#Tot</th>\n",
       "      <th>#Cat</th>\n",
       "      <th>Zwem</th>\n",
       "      <th>Zwem_speed_per100m</th>\n",
       "      <th>Wis1</th>\n",
       "      <th>Fiets</th>\n",
       "      <th>Fiets_speed_km/h</th>\n",
       "      <th>Wis2</th>\n",
       "      <th>Loop</th>\n",
       "      <th>Loop_pace_min/km</th>\n",
       "      <th>Totaal</th>\n",
       "    </tr>\n",
       "  </thead>\n",
       "  <tbody>\n",
       "    <tr>\n",
       "      <th>5</th>\n",
       "      <td>1</td>\n",
       "      <td>1</td>\n",
       "      <td>20:58</td>\n",
       "      <td>00:01:23.866666</td>\n",
       "      <td>1:15</td>\n",
       "      <td>58:56</td>\n",
       "      <td>40.723982</td>\n",
       "      <td>1:55</td>\n",
       "      <td>35:33</td>\n",
       "      <td>00:03:33.300000</td>\n",
       "      <td>1:58:34</td>\n",
       "    </tr>\n",
       "    <tr>\n",
       "      <th>80</th>\n",
       "      <td>76</td>\n",
       "      <td>62</td>\n",
       "      <td>36:48</td>\n",
       "      <td>00:02:27.200000</td>\n",
       "      <td>3:12</td>\n",
       "      <td>1:16:23</td>\n",
       "      <td>31.420467</td>\n",
       "      <td>3:25</td>\n",
       "      <td>53:30</td>\n",
       "      <td>00:05:21</td>\n",
       "      <td>2:53:16</td>\n",
       "    </tr>\n",
       "  </tbody>\n",
       "</table>\n",
       "</div>"
      ],
      "text/plain": [
       "4  #Tot #Cat   Zwem Zwem_speed_per100m  Wis1    Fiets  Fiets_speed_km/h  Wis2  \\\n",
       "5     1    1  20:58    00:01:23.866666  1:15    58:56         40.723982  1:55   \n",
       "80   76   62  36:48    00:02:27.200000  3:12  1:16:23         31.420467  3:25   \n",
       "\n",
       "4    Loop Loop_pace_min/km   Totaal  \n",
       "5   35:33  00:03:33.300000  1:58:34  \n",
       "80  53:30         00:05:21  2:53:16  "
      ]
     },
     "execution_count": 306,
     "metadata": {},
     "output_type": "execute_result"
    }
   ],
   "source": [
    "df[(df['Naam'].str.contains('Jair')) | (df['#Tot']=='1')][['#Tot','#Cat','Zwem','Zwem_speed_per100m','Wis1','Fiets','Fiets_speed_km/h','Wis2','Loop','Loop_pace_min/km','Totaal']]"
   ]
  },
  {
   "cell_type": "markdown",
   "id": "29f00094",
   "metadata": {},
   "source": [
    "'#Cat': Male or Female category!"
   ]
  },
  {
   "cell_type": "markdown",
   "id": "e92ea9fe",
   "metadata": {},
   "source": [
    "## Removing participants that didn't finish"
   ]
  },
  {
   "cell_type": "code",
   "execution_count": 307,
   "id": "a4bbe742",
   "metadata": {},
   "outputs": [],
   "source": [
    "df = df[df['#Tot']!='DNF']"
   ]
  },
  {
   "cell_type": "markdown",
   "id": "e256e91d",
   "metadata": {},
   "source": [
    "## Comparing myself to ALL other participants (whether in q1, q2/median, q3, q4)"
   ]
  },
  {
   "cell_type": "code",
   "execution_count": 308,
   "id": "66e010a2",
   "metadata": {},
   "outputs": [],
   "source": [
    "df = df.sort_values(['Zwem_total_sec']).reset_index()\n",
    "df.index += 1\n",
    "df.index.rename('#Zwem', inplace=True)"
   ]
  },
  {
   "cell_type": "code",
   "execution_count": 309,
   "id": "175bab9a",
   "metadata": {},
   "outputs": [],
   "source": [
    "df = df.sort_values(['Wis1_total_sec']).reset_index()\n",
    "df.index += 1\n",
    "df.index.rename('#Wis1', inplace=True)"
   ]
  },
  {
   "cell_type": "code",
   "execution_count": 310,
   "id": "d16098c2",
   "metadata": {},
   "outputs": [],
   "source": [
    "df = df.sort_values(['Fiets_total_sec']).reset_index()\n",
    "df.index += 1\n",
    "df.index.rename('#Fiets', inplace=True)"
   ]
  },
  {
   "cell_type": "code",
   "execution_count": 311,
   "id": "e87f527a",
   "metadata": {},
   "outputs": [],
   "source": [
    "df = df.sort_values(['Wis2_total_sec']).reset_index()\n",
    "df.index += 1\n",
    "df.index.rename('#Wis2', inplace=True)"
   ]
  },
  {
   "cell_type": "code",
   "execution_count": 312,
   "id": "9f7f2d1d",
   "metadata": {},
   "outputs": [],
   "source": [
    "df = df.sort_values(['Loop_total_sec']).reset_index()\n",
    "df.index += 1\n",
    "df.index.rename('#Loop', inplace=True)"
   ]
  },
  {
   "cell_type": "code",
   "execution_count": 313,
   "id": "bc0f400f",
   "metadata": {},
   "outputs": [],
   "source": [
    "df = df.reset_index()"
   ]
  },
  {
   "cell_type": "code",
   "execution_count": 314,
   "id": "c76a6c57",
   "metadata": {},
   "outputs": [
    {
     "data": {
      "text/html": [
       "<div>\n",
       "<style scoped>\n",
       "    .dataframe tbody tr th:only-of-type {\n",
       "        vertical-align: middle;\n",
       "    }\n",
       "\n",
       "    .dataframe tbody tr th {\n",
       "        vertical-align: top;\n",
       "    }\n",
       "\n",
       "    .dataframe thead th {\n",
       "        text-align: right;\n",
       "    }\n",
       "</style>\n",
       "<table border=\"1\" class=\"dataframe\">\n",
       "  <thead>\n",
       "    <tr style=\"text-align: right;\">\n",
       "      <th>4</th>\n",
       "      <th>Naam</th>\n",
       "      <th>#Tot</th>\n",
       "      <th>#Zwem</th>\n",
       "      <th>#Wis1</th>\n",
       "      <th>#Fiets</th>\n",
       "      <th>#Wis2</th>\n",
       "      <th>#Loop</th>\n",
       "    </tr>\n",
       "  </thead>\n",
       "  <tbody>\n",
       "    <tr>\n",
       "      <th>0</th>\n",
       "      <td>Hugo Jan Bosscher</td>\n",
       "      <td>1</td>\n",
       "      <td>1</td>\n",
       "      <td>1</td>\n",
       "      <td>1</td>\n",
       "      <td>2</td>\n",
       "      <td>1</td>\n",
       "    </tr>\n",
       "    <tr>\n",
       "      <th>69</th>\n",
       "      <td>José Jair Cardoso de Santanna</td>\n",
       "      <td>76</td>\n",
       "      <td>82</td>\n",
       "      <td>68</td>\n",
       "      <td>76</td>\n",
       "      <td>78</td>\n",
       "      <td>70</td>\n",
       "    </tr>\n",
       "  </tbody>\n",
       "</table>\n",
       "</div>"
      ],
      "text/plain": [
       "4                            Naam #Tot  #Zwem  #Wis1  #Fiets  #Wis2  #Loop\n",
       "0               Hugo Jan Bosscher    1      1      1       1      2      1\n",
       "69  José Jair Cardoso de Santanna   76     82     68      76     78     70"
      ]
     },
     "execution_count": 314,
     "metadata": {},
     "output_type": "execute_result"
    }
   ],
   "source": [
    "df[(df['Naam'].str.contains('Jair')) | (df['#Tot']=='1')][['Naam','#Tot','#Zwem','#Wis1','#Fiets','#Wis2','#Loop']]"
   ]
  },
  {
   "cell_type": "markdown",
   "id": "e137a40a",
   "metadata": {},
   "source": [
    "Out of 119 participants (q1:0-30, q2:30-60, q3:60-90, q4:90-119):\n",
    "- **Swim**: q3\n",
    "- **T1**: q3\n",
    "- **Biking**: q3\n",
    "- **T2**: q3\n",
    "- **Running**: q3"
   ]
  },
  {
   "cell_type": "markdown",
   "id": "f73e9d2d",
   "metadata": {},
   "source": [
    "## Comparing myself to the Male Category\n",
    "Filtering only Male"
   ]
  },
  {
   "cell_type": "code",
   "execution_count": 315,
   "id": "1a8fb742",
   "metadata": {},
   "outputs": [],
   "source": [
    "df = df[df['Cat']=='M']"
   ]
  },
  {
   "cell_type": "code",
   "execution_count": 316,
   "id": "eacebe7d",
   "metadata": {},
   "outputs": [],
   "source": [
    "df = df.sort_values(['Zwem_total_sec']).reset_index()\n",
    "df.index += 1\n",
    "df.index.rename('#Zwem_m', inplace=True)"
   ]
  },
  {
   "cell_type": "code",
   "execution_count": 317,
   "id": "d20f62b6",
   "metadata": {},
   "outputs": [],
   "source": [
    "df = df.sort_values(['Wis1_total_sec']).reset_index()\n",
    "df.index += 1\n",
    "df.index.rename('#Wis1_m', inplace=True)"
   ]
  },
  {
   "cell_type": "code",
   "execution_count": 318,
   "id": "a576b113",
   "metadata": {},
   "outputs": [],
   "source": [
    "df = df.sort_values(['Fiets_total_sec']).reset_index()\n",
    "df.index += 1\n",
    "df.index.rename('#Fiets_m', inplace=True)"
   ]
  },
  {
   "cell_type": "code",
   "execution_count": 319,
   "id": "7f504574",
   "metadata": {},
   "outputs": [],
   "source": [
    "df = df.sort_values(['Wis2_total_sec']).reset_index()\n",
    "df.index += 1\n",
    "df.index.rename('#Wis2_m', inplace=True)"
   ]
  },
  {
   "cell_type": "code",
   "execution_count": 320,
   "id": "beef0828",
   "metadata": {},
   "outputs": [],
   "source": [
    "df = df.sort_values(['Loop_total_sec']).reset_index()\n",
    "df.index += 1\n",
    "df.index.rename('#Loop_m', inplace=True)"
   ]
  },
  {
   "cell_type": "code",
   "execution_count": 321,
   "id": "ae5461fc",
   "metadata": {},
   "outputs": [],
   "source": [
    "df = df.reset_index()"
   ]
  },
  {
   "cell_type": "code",
   "execution_count": 322,
   "id": "e9019be4",
   "metadata": {},
   "outputs": [
    {
     "data": {
      "text/html": [
       "<div>\n",
       "<style scoped>\n",
       "    .dataframe tbody tr th:only-of-type {\n",
       "        vertical-align: middle;\n",
       "    }\n",
       "\n",
       "    .dataframe tbody tr th {\n",
       "        vertical-align: top;\n",
       "    }\n",
       "\n",
       "    .dataframe thead th {\n",
       "        text-align: right;\n",
       "    }\n",
       "</style>\n",
       "<table border=\"1\" class=\"dataframe\">\n",
       "  <thead>\n",
       "    <tr style=\"text-align: right;\">\n",
       "      <th>4</th>\n",
       "      <th>Naam</th>\n",
       "      <th>#Cat</th>\n",
       "      <th>#Zwem_m</th>\n",
       "      <th>#Wis1_m</th>\n",
       "      <th>#Fiets_m</th>\n",
       "      <th>#Wis2_m</th>\n",
       "      <th>#Loop_m</th>\n",
       "    </tr>\n",
       "  </thead>\n",
       "  <tbody>\n",
       "    <tr>\n",
       "      <th>0</th>\n",
       "      <td>Hugo Jan Bosscher</td>\n",
       "      <td>1</td>\n",
       "      <td>1</td>\n",
       "      <td>1</td>\n",
       "      <td>1</td>\n",
       "      <td>2</td>\n",
       "      <td>1</td>\n",
       "    </tr>\n",
       "    <tr>\n",
       "      <th>57</th>\n",
       "      <td>José Jair Cardoso de Santanna</td>\n",
       "      <td>62</td>\n",
       "      <td>62</td>\n",
       "      <td>50</td>\n",
       "      <td>63</td>\n",
       "      <td>61</td>\n",
       "      <td>58</td>\n",
       "    </tr>\n",
       "  </tbody>\n",
       "</table>\n",
       "</div>"
      ],
      "text/plain": [
       "4                            Naam #Cat  #Zwem_m  #Wis1_m  #Fiets_m  #Wis2_m  \\\n",
       "0               Hugo Jan Bosscher    1        1        1         1        2   \n",
       "57  José Jair Cardoso de Santanna   62       62       50        63       61   \n",
       "\n",
       "4   #Loop_m  \n",
       "0         1  \n",
       "57       58  "
      ]
     },
     "execution_count": 322,
     "metadata": {},
     "output_type": "execute_result"
    }
   ],
   "source": [
    "df[(df['Naam'].str.contains('Jair')) | (df['#Cat']=='1')][['Naam','#Cat','#Zwem_m','#Wis1_m','#Fiets_m','#Wis2_m','#Loop_m']]"
   ]
  },
  {
   "cell_type": "markdown",
   "id": "040bc9c4",
   "metadata": {},
   "source": [
    "Out of 90 male participants (q1:0-23, q2:23-46, q3:46-68, q4:68-90):\n",
    "- **Swim**: q3\n",
    "- **T1**: q3\n",
    "- **Biking**: q3\n",
    "- **T2**: q3\n",
    "- **Running**: q3"
   ]
  },
  {
   "cell_type": "markdown",
   "id": "980504ed",
   "metadata": {},
   "source": [
    "# To aim for the next race(s)"
   ]
  },
  {
   "cell_type": "markdown",
   "id": "4cff2b64",
   "metadata": {},
   "source": [
    "What were the speeds of the slow and fast people in q1, q2, q3, and q4?"
   ]
  },
  {
   "cell_type": "code",
   "execution_count": 356,
   "id": "09a2cf30",
   "metadata": {},
   "outputs": [
    {
     "name": "stdout",
     "output_type": "stream",
     "text": [
      "00:02:27.200000\n"
     ]
    },
    {
     "data": {
      "text/html": [
       "<div>\n",
       "<style scoped>\n",
       "    .dataframe tbody tr th:only-of-type {\n",
       "        vertical-align: middle;\n",
       "    }\n",
       "\n",
       "    .dataframe tbody tr th {\n",
       "        vertical-align: top;\n",
       "    }\n",
       "\n",
       "    .dataframe thead th {\n",
       "        text-align: right;\n",
       "    }\n",
       "</style>\n",
       "<table border=\"1\" class=\"dataframe\">\n",
       "  <thead>\n",
       "    <tr style=\"text-align: right;\">\n",
       "      <th>4</th>\n",
       "      <th>#Zwem_m</th>\n",
       "      <th>Zwem_speed_per100m</th>\n",
       "    </tr>\n",
       "  </thead>\n",
       "  <tbody>\n",
       "    <tr>\n",
       "      <th>0</th>\n",
       "      <td>1</td>\n",
       "      <td>00:01:23.866666</td>\n",
       "    </tr>\n",
       "    <tr>\n",
       "      <th>54</th>\n",
       "      <td>23</td>\n",
       "      <td>00:02:04.333333</td>\n",
       "    </tr>\n",
       "    <tr>\n",
       "      <th>39</th>\n",
       "      <td>46</td>\n",
       "      <td>00:02:17.933333</td>\n",
       "    </tr>\n",
       "    <tr>\n",
       "      <th>45</th>\n",
       "      <td>68</td>\n",
       "      <td>00:02:33.200000</td>\n",
       "    </tr>\n",
       "    <tr>\n",
       "      <th>74</th>\n",
       "      <td>88</td>\n",
       "      <td>00:03:02.066666</td>\n",
       "    </tr>\n",
       "  </tbody>\n",
       "</table>\n",
       "</div>"
      ],
      "text/plain": [
       "4   #Zwem_m Zwem_speed_per100m\n",
       "0         1    00:01:23.866666\n",
       "54       23    00:02:04.333333\n",
       "39       46    00:02:17.933333\n",
       "45       68    00:02:33.200000\n",
       "74       88    00:03:02.066666"
      ]
     },
     "execution_count": 356,
     "metadata": {},
     "output_type": "execute_result"
    }
   ],
   "source": [
    "modality = '#Zwem_m'\n",
    "speed = 'Zwem_speed_per100m'\n",
    "\n",
    "print(str(df[(df['Naam'].str.contains('Jair'))][speed].values[0]))\n",
    "\n",
    "df[(df[modality]==1) |(df[modality]==23)|(df[modality]==46)|(df[modality]==68)|(df[modality]==88)][[modality, speed]].sort_values([modality]) "
   ]
  },
  {
   "cell_type": "code",
   "execution_count": 357,
   "id": "3047199b",
   "metadata": {},
   "outputs": [
    {
     "name": "stdout",
     "output_type": "stream",
     "text": [
      "31.420466943050403\n"
     ]
    },
    {
     "data": {
      "text/html": [
       "<div>\n",
       "<style scoped>\n",
       "    .dataframe tbody tr th:only-of-type {\n",
       "        vertical-align: middle;\n",
       "    }\n",
       "\n",
       "    .dataframe tbody tr th {\n",
       "        vertical-align: top;\n",
       "    }\n",
       "\n",
       "    .dataframe thead th {\n",
       "        text-align: right;\n",
       "    }\n",
       "</style>\n",
       "<table border=\"1\" class=\"dataframe\">\n",
       "  <thead>\n",
       "    <tr style=\"text-align: right;\">\n",
       "      <th>4</th>\n",
       "      <th>#Fiets_m</th>\n",
       "      <th>Fiets_speed_km/h</th>\n",
       "    </tr>\n",
       "  </thead>\n",
       "  <tbody>\n",
       "    <tr>\n",
       "      <th>0</th>\n",
       "      <td>1</td>\n",
       "      <td>40.723982</td>\n",
       "    </tr>\n",
       "    <tr>\n",
       "      <th>19</th>\n",
       "      <td>23</td>\n",
       "      <td>35.590707</td>\n",
       "    </tr>\n",
       "    <tr>\n",
       "      <th>33</th>\n",
       "      <td>46</td>\n",
       "      <td>32.690125</td>\n",
       "    </tr>\n",
       "    <tr>\n",
       "      <th>65</th>\n",
       "      <td>68</td>\n",
       "      <td>30.934479</td>\n",
       "    </tr>\n",
       "    <tr>\n",
       "      <th>86</th>\n",
       "      <td>88</td>\n",
       "      <td>25.347650</td>\n",
       "    </tr>\n",
       "  </tbody>\n",
       "</table>\n",
       "</div>"
      ],
      "text/plain": [
       "4   #Fiets_m  Fiets_speed_km/h\n",
       "0          1         40.723982\n",
       "19        23         35.590707\n",
       "33        46         32.690125\n",
       "65        68         30.934479\n",
       "86        88         25.347650"
      ]
     },
     "execution_count": 357,
     "metadata": {},
     "output_type": "execute_result"
    }
   ],
   "source": [
    "modality = '#Fiets_m'\n",
    "speed = 'Fiets_speed_km/h'\n",
    "\n",
    "print(str(df[(df['Naam'].str.contains('Jair'))][speed].values[0]))\n",
    "\n",
    "df[(df[modality]==1) |(df[modality]==23)|(df[modality]==46)|(df[modality]==68)|(df[modality]==88)][[modality, speed]].sort_values([modality]) "
   ]
  },
  {
   "cell_type": "code",
   "execution_count": 358,
   "id": "020245c3",
   "metadata": {},
   "outputs": [
    {
     "name": "stdout",
     "output_type": "stream",
     "text": [
      "00:05:21\n"
     ]
    },
    {
     "data": {
      "text/html": [
       "<div>\n",
       "<style scoped>\n",
       "    .dataframe tbody tr th:only-of-type {\n",
       "        vertical-align: middle;\n",
       "    }\n",
       "\n",
       "    .dataframe tbody tr th {\n",
       "        vertical-align: top;\n",
       "    }\n",
       "\n",
       "    .dataframe thead th {\n",
       "        text-align: right;\n",
       "    }\n",
       "</style>\n",
       "<table border=\"1\" class=\"dataframe\">\n",
       "  <thead>\n",
       "    <tr style=\"text-align: right;\">\n",
       "      <th>4</th>\n",
       "      <th>#Loop_m</th>\n",
       "      <th>Loop_pace_min/km</th>\n",
       "    </tr>\n",
       "  </thead>\n",
       "  <tbody>\n",
       "    <tr>\n",
       "      <th>0</th>\n",
       "      <td>1</td>\n",
       "      <td>00:03:33.300000</td>\n",
       "    </tr>\n",
       "    <tr>\n",
       "      <th>22</th>\n",
       "      <td>23</td>\n",
       "      <td>00:04:30.700000</td>\n",
       "    </tr>\n",
       "    <tr>\n",
       "      <th>45</th>\n",
       "      <td>46</td>\n",
       "      <td>00:05:00.900000</td>\n",
       "    </tr>\n",
       "    <tr>\n",
       "      <th>67</th>\n",
       "      <td>68</td>\n",
       "      <td>00:05:47.500000</td>\n",
       "    </tr>\n",
       "    <tr>\n",
       "      <th>87</th>\n",
       "      <td>88</td>\n",
       "      <td>00:07:41.500000</td>\n",
       "    </tr>\n",
       "  </tbody>\n",
       "</table>\n",
       "</div>"
      ],
      "text/plain": [
       "4   #Loop_m Loop_pace_min/km\n",
       "0         1  00:03:33.300000\n",
       "22       23  00:04:30.700000\n",
       "45       46  00:05:00.900000\n",
       "67       68  00:05:47.500000\n",
       "87       88  00:07:41.500000"
      ]
     },
     "execution_count": 358,
     "metadata": {},
     "output_type": "execute_result"
    }
   ],
   "source": [
    "modality = '#Loop_m'\n",
    "speed = 'Loop_pace_min/km'\n",
    "\n",
    "print(str(df[(df['Naam'].str.contains('Jair'))][speed].values[0]))\n",
    "\n",
    "df[(df[modality]==1) |(df[modality]==23)|(df[modality]==46)|(df[modality]==68)|(df[modality]==88)][[modality, speed]].sort_values([modality]) "
   ]
  }
 ],
 "metadata": {
  "kernelspec": {
   "display_name": "Python 3",
   "language": "python",
   "name": "python3"
  },
  "language_info": {
   "codemirror_mode": {
    "name": "ipython",
    "version": 3
   },
   "file_extension": ".py",
   "mimetype": "text/x-python",
   "name": "python",
   "nbconvert_exporter": "python",
   "pygments_lexer": "ipython3",
   "version": "3.9.16"
  }
 },
 "nbformat": 4,
 "nbformat_minor": 5
}
